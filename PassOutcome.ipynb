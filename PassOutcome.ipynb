{
 "cells": [
  {
   "cell_type": "code",
   "execution_count": 90,
   "metadata": {},
   "outputs": [
    {
     "name": "stderr",
     "output_type": "stream",
     "text": [
      "C:\\Users\\blippinBloop\\Anaconda3\\lib\\site-packages\\IPython\\core\\interactiveshell.py:2728: DtypeWarning: Columns (25,51) have mixed types. Specify dtype option on import or set low_memory=False.\n",
      "  interactivity=interactivity, compiler=compiler, result=result)\n"
     ]
    },
    {
     "data": {
      "text/html": [
       "<div>\n",
       "<style scoped>\n",
       "    .dataframe tbody tr th:only-of-type {\n",
       "        vertical-align: middle;\n",
       "    }\n",
       "\n",
       "    .dataframe tbody tr th {\n",
       "        vertical-align: top;\n",
       "    }\n",
       "\n",
       "    .dataframe thead th {\n",
       "        text-align: right;\n",
       "    }\n",
       "</style>\n",
       "<table border=\"1\" class=\"dataframe\">\n",
       "  <thead>\n",
       "    <tr style=\"text-align: right;\">\n",
       "      <th></th>\n",
       "      <th>down</th>\n",
       "      <th>qtr</th>\n",
       "      <th>yrdln</th>\n",
       "      <th>yrdline100</th>\n",
       "      <th>ydstogo</th>\n",
       "      <th>FirstDown</th>\n",
       "      <th>PassLength</th>\n",
       "    </tr>\n",
       "  </thead>\n",
       "  <tbody>\n",
       "    <tr>\n",
       "      <th>1</th>\n",
       "      <td>1.0</td>\n",
       "      <td>1</td>\n",
       "      <td>42.0</td>\n",
       "      <td>58.0</td>\n",
       "      <td>10</td>\n",
       "      <td>0.0</td>\n",
       "      <td>0</td>\n",
       "    </tr>\n",
       "    <tr>\n",
       "      <th>3</th>\n",
       "      <td>3.0</td>\n",
       "      <td>1</td>\n",
       "      <td>44.0</td>\n",
       "      <td>56.0</td>\n",
       "      <td>8</td>\n",
       "      <td>0.0</td>\n",
       "      <td>1</td>\n",
       "    </tr>\n",
       "    <tr>\n",
       "      <th>6</th>\n",
       "      <td>2.0</td>\n",
       "      <td>1</td>\n",
       "      <td>2.0</td>\n",
       "      <td>98.0</td>\n",
       "      <td>10</td>\n",
       "      <td>0.0</td>\n",
       "      <td>0</td>\n",
       "    </tr>\n",
       "    <tr>\n",
       "      <th>9</th>\n",
       "      <td>1.0</td>\n",
       "      <td>1</td>\n",
       "      <td>43.0</td>\n",
       "      <td>43.0</td>\n",
       "      <td>10</td>\n",
       "      <td>0.0</td>\n",
       "      <td>0</td>\n",
       "    </tr>\n",
       "    <tr>\n",
       "      <th>10</th>\n",
       "      <td>2.0</td>\n",
       "      <td>1</td>\n",
       "      <td>40.0</td>\n",
       "      <td>40.0</td>\n",
       "      <td>7</td>\n",
       "      <td>1.0</td>\n",
       "      <td>0</td>\n",
       "    </tr>\n",
       "  </tbody>\n",
       "</table>\n",
       "</div>"
      ],
      "text/plain": [
       "    down  qtr  yrdln  yrdline100  ydstogo  FirstDown PassLength\n",
       "1    1.0    1   42.0        58.0       10        0.0          0\n",
       "3    3.0    1   44.0        56.0        8        0.0          1\n",
       "6    2.0    1    2.0        98.0       10        0.0          0\n",
       "9    1.0    1   43.0        43.0       10        0.0          0\n",
       "10   2.0    1   40.0        40.0        7        1.0          0"
      ]
     },
     "execution_count": 90,
     "metadata": {},
     "output_type": "execute_result"
    }
   ],
   "source": [
    "import pandas as pd\n",
    "from sklearn.metrics import accuracy_score\n",
    "\n",
    "# Replace this line with your own local file path\n",
    "df = pd.read_csv(\"D:/School/CS 4661 Data Science/NFL_Play_Prediction/NFL Play by Play 2009-2017 (v4).csv\")\n",
    "\n",
    "df = df[['down', 'qtr', 'yrdln', 'yrdline100', 'ydstogo', 'FirstDown', 'PassLength', 'PassOutcome']]\n",
    "df = df.dropna()\n",
    "\n",
    "df = df.replace({'PassOutcome': {'Complete': 1, 'Incomplete Pass': 0}})\n",
    "df = df.replace({'PassLength' : {'Short' : 0, 'Deep' : 1}})\n",
    "#df = df.replace({'PlayType' : {'Pass': 1, 'No Play' : 0}})\n",
    "\n",
    "X = df[['down', 'qtr', 'yrdln', 'yrdline100', 'ydstogo', 'FirstDown', 'PassLength']]\n",
    "\n",
    "X.head()"
   ]
  },
  {
   "cell_type": "code",
   "execution_count": 91,
   "metadata": {},
   "outputs": [
    {
     "data": {
      "text/plain": [
       "1     1\n",
       "3     0\n",
       "6     1\n",
       "9     1\n",
       "10    1\n",
       "Name: PassOutcome, dtype: int64"
      ]
     },
     "execution_count": 91,
     "metadata": {},
     "output_type": "execute_result"
    }
   ],
   "source": [
    "# PassOutcome\n",
    "y = df['PassOutcome']\n",
    "\n",
    "y.head()"
   ]
  },
  {
   "cell_type": "code",
   "execution_count": 92,
   "metadata": {},
   "outputs": [],
   "source": [
    "from sklearn.model_selection import train_test_split\n",
    "\n",
    "X_train, X_test, y_train, y_test = train_test_split(X, y, test_size=0.25, random_state=4)"
   ]
  },
  {
   "cell_type": "code",
   "execution_count": 93,
   "metadata": {},
   "outputs": [
    {
     "name": "stdout",
     "output_type": "stream",
     "text": [
      "0.6458567634179608\n"
     ]
    }
   ],
   "source": [
    "from sklearn.neighbors import KNeighborsClassifier\n",
    "\n",
    "# Instantiate KNeighborsClassifer as knn\n",
    "k = 3\n",
    "knn = KNeighborsClassifier(n_neighbors=k)\n",
    "\n",
    "# Train on the training set\n",
    "knn.fit(X_train, y_train)\n",
    "\n",
    "# Predict from training set\n",
    "y_predict_KNN = knn.predict(X_test)\n",
    "\n",
    "# Accuracy\n",
    "accuracy_knn = accuracy_score(y_test, y_predict_KNN)\n",
    "\n",
    "print(accuracy_knn)"
   ]
  },
  {
   "cell_type": "code",
   "execution_count": 94,
   "metadata": {},
   "outputs": [
    {
     "name": "stdout",
     "output_type": "stream",
     "text": [
      "0.6677514297336747\n"
     ]
    }
   ],
   "source": [
    "# Decision Tree Classifier\n",
    "from sklearn.tree import DecisionTreeClassifier\n",
    "\n",
    "# Instantiate DecisionTreeClassifer\n",
    "decisionTree = DecisionTreeClassifier(random_state = 5)\n",
    "\n",
    "# Train\n",
    "decisionTree.fit(X_train, y_train)\n",
    "\n",
    "# Predict\n",
    "y_predict_DTree = decisionTree.predict(X_test)\n",
    "\n",
    "# Accuracy\n",
    "accuracy_DTree = accuracy_score(y_test, y_predict_DTree)\n",
    "\n",
    "print(accuracy_DTree)"
   ]
  },
  {
   "cell_type": "code",
   "execution_count": 95,
   "metadata": {},
   "outputs": [
    {
     "name": "stdout",
     "output_type": "stream",
     "text": [
      "0.7022325381062908\n"
     ]
    }
   ],
   "source": [
    "# Logistic Regression\n",
    "from sklearn.linear_model import LogisticRegression\n",
    "\n",
    "#Instantiate LogisticRegression\n",
    "logReg = LogisticRegression()\n",
    "\n",
    "# Train\n",
    "logReg.fit(X_train, y_train)\n",
    "\n",
    "# Predict\n",
    "y_predict_LogReg = logReg.predict(X_test)\n",
    "\n",
    "# Accuracy\n",
    "accuracy_LogReg = accuracy_score(y_test, y_predict_LogReg)\n",
    "\n",
    "print(accuracy_LogReg)"
   ]
  },
  {
   "cell_type": "code",
   "execution_count": null,
   "metadata": {},
   "outputs": [],
   "source": []
  }
 ],
 "metadata": {
  "kernelspec": {
   "display_name": "Python 3",
   "language": "python",
   "name": "python3"
  },
  "language_info": {
   "codemirror_mode": {
    "name": "ipython",
    "version": 3
   },
   "file_extension": ".py",
   "mimetype": "text/x-python",
   "name": "python",
   "nbconvert_exporter": "python",
   "pygments_lexer": "ipython3",
   "version": "3.6.4"
  }
 },
 "nbformat": 4,
 "nbformat_minor": 2
}
