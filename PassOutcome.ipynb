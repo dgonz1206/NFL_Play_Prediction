{
 "cells": [
  {
   "cell_type": "code",
   "execution_count": 147,
   "metadata": {},
   "outputs": [
    {
     "name": "stderr",
     "output_type": "stream",
     "text": [
      "C:\\Users\\blippinBloop\\Anaconda3\\lib\\site-packages\\IPython\\core\\interactiveshell.py:2728: DtypeWarning: Columns (25,51) have mixed types. Specify dtype option on import or set low_memory=False.\n",
      "  interactivity=interactivity, compiler=compiler, result=result)\n"
     ]
    },
    {
     "data": {
      "text/html": [
       "<div>\n",
       "<style scoped>\n",
       "    .dataframe tbody tr th:only-of-type {\n",
       "        vertical-align: middle;\n",
       "    }\n",
       "\n",
       "    .dataframe tbody tr th {\n",
       "        vertical-align: top;\n",
       "    }\n",
       "\n",
       "    .dataframe thead th {\n",
       "        text-align: right;\n",
       "    }\n",
       "</style>\n",
       "<table border=\"1\" class=\"dataframe\">\n",
       "  <thead>\n",
       "    <tr style=\"text-align: right;\">\n",
       "      <th></th>\n",
       "      <th>Drive</th>\n",
       "      <th>down</th>\n",
       "      <th>qtr</th>\n",
       "      <th>yrdline100</th>\n",
       "      <th>ydstogo</th>\n",
       "      <th>FirstDown</th>\n",
       "      <th>PassLength</th>\n",
       "    </tr>\n",
       "  </thead>\n",
       "  <tbody>\n",
       "    <tr>\n",
       "      <th>1</th>\n",
       "      <td>1</td>\n",
       "      <td>1.0</td>\n",
       "      <td>1</td>\n",
       "      <td>58.0</td>\n",
       "      <td>10</td>\n",
       "      <td>0.0</td>\n",
       "      <td>0</td>\n",
       "    </tr>\n",
       "    <tr>\n",
       "      <th>3</th>\n",
       "      <td>1</td>\n",
       "      <td>3.0</td>\n",
       "      <td>1</td>\n",
       "      <td>56.0</td>\n",
       "      <td>8</td>\n",
       "      <td>0.0</td>\n",
       "      <td>1</td>\n",
       "    </tr>\n",
       "    <tr>\n",
       "      <th>6</th>\n",
       "      <td>2</td>\n",
       "      <td>2.0</td>\n",
       "      <td>1</td>\n",
       "      <td>98.0</td>\n",
       "      <td>10</td>\n",
       "      <td>0.0</td>\n",
       "      <td>0</td>\n",
       "    </tr>\n",
       "    <tr>\n",
       "      <th>9</th>\n",
       "      <td>3</td>\n",
       "      <td>1.0</td>\n",
       "      <td>1</td>\n",
       "      <td>43.0</td>\n",
       "      <td>10</td>\n",
       "      <td>0.0</td>\n",
       "      <td>0</td>\n",
       "    </tr>\n",
       "    <tr>\n",
       "      <th>10</th>\n",
       "      <td>3</td>\n",
       "      <td>2.0</td>\n",
       "      <td>1</td>\n",
       "      <td>40.0</td>\n",
       "      <td>7</td>\n",
       "      <td>1.0</td>\n",
       "      <td>0</td>\n",
       "    </tr>\n",
       "  </tbody>\n",
       "</table>\n",
       "</div>"
      ],
      "text/plain": [
       "    Drive  down  qtr  yrdline100  ydstogo  FirstDown PassLength\n",
       "1       1   1.0    1        58.0       10        0.0          0\n",
       "3       1   3.0    1        56.0        8        0.0          1\n",
       "6       2   2.0    1        98.0       10        0.0          0\n",
       "9       3   1.0    1        43.0       10        0.0          0\n",
       "10      3   2.0    1        40.0        7        1.0          0"
      ]
     },
     "execution_count": 147,
     "metadata": {},
     "output_type": "execute_result"
    }
   ],
   "source": [
    "import pandas as pd\n",
    "import numpy as np\n",
    "from sklearn.metrics import accuracy_score\n",
    "from sklearn.metrics import auc\n",
    "from sklearn.metrics import roc_curve\n",
    "import matplotlib.pyplot as plt\n",
    "\n",
    "# Replace this line with your own local file path\n",
    "df = pd.read_csv(\"D:/School/CS 4661 Data Science/NFL_Play_Prediction/NFL Play by Play 2009-2017 (v4).csv\")\n",
    "\n",
    "df = df[['Drive', 'down', 'qtr', 'yrdline100', 'ydstogo', 'FirstDown', 'PassOutcome', 'PlayType', 'PassLength']]\n",
    "df = df.dropna()\n",
    "\n",
    "df = df.replace({'PassOutcome': {'Complete': 1, 'Incomplete Pass': 0}})\n",
    "df = df.replace({'PassLength' : {'Short' : 0, 'Deep' : 1}})\n",
    "\n",
    "# We only want to take in PlayType: 'Pass' into account, dropping all the others\n",
    "df = df.replace({'PlayType' : {'No Play': np.nan, 'Punt': np.nan, 'Sack': np.nan, 'Kickoff': np.nan, 'Run': np.nan, 'Half End': np.nan}})\n",
    "\n",
    "df = df.dropna()\n",
    "\n",
    "# Code to determine what other types there were for PlayType\n",
    "#list = []\n",
    "#for x in df['PlayType']:\n",
    "#    if x not in list:\n",
    "#        list.append(x)\n",
    "#print(list)\n",
    "\n",
    "X = df[['Drive', 'down', 'qtr', 'yrdline100', 'ydstogo', 'FirstDown', 'PassLength']]\n",
    "\n",
    "X.head()"
   ]
  },
  {
   "cell_type": "code",
   "execution_count": 148,
   "metadata": {},
   "outputs": [
    {
     "data": {
      "text/plain": [
       "1     1\n",
       "3     0\n",
       "6     1\n",
       "9     1\n",
       "10    1\n",
       "Name: PassOutcome, dtype: int64"
      ]
     },
     "execution_count": 148,
     "metadata": {},
     "output_type": "execute_result"
    }
   ],
   "source": [
    "# PassOutcome\n",
    "y = df['PassOutcome']\n",
    "\n",
    "y.head()"
   ]
  },
  {
   "cell_type": "code",
   "execution_count": 149,
   "metadata": {},
   "outputs": [],
   "source": [
    "from sklearn.model_selection import train_test_split\n",
    "\n",
    "X_train, X_test, y_train, y_test = train_test_split(X, y, test_size=0.25, random_state=4)"
   ]
  },
  {
   "cell_type": "code",
   "execution_count": 150,
   "metadata": {},
   "outputs": [
    {
     "name": "stdout",
     "output_type": "stream",
     "text": [
      "0.6541947537175894\n"
     ]
    }
   ],
   "source": [
    "from sklearn.neighbors import KNeighborsClassifier\n",
    "\n",
    "# Instantiate KNeighborsClassifer as knn\n",
    "k = 3\n",
    "knn = KNeighborsClassifier(n_neighbors=k)\n",
    "\n",
    "# Train on the training set\n",
    "knn.fit(X_train, y_train)\n",
    "\n",
    "# Predict from training set\n",
    "y_predict_KNN = knn.predict(X_test)\n",
    "\n",
    "# Accuracy\n",
    "accuracy_knn = accuracy_score(y_test, y_predict_KNN)\n",
    "\n",
    "print(accuracy_knn)"
   ]
  },
  {
   "cell_type": "code",
   "execution_count": 151,
   "metadata": {},
   "outputs": [
    {
     "name": "stdout",
     "output_type": "stream",
     "text": [
      "0.6649498851271176\n"
     ]
    }
   ],
   "source": [
    "# Decision Tree Classifier\n",
    "from sklearn.tree import DecisionTreeClassifier\n",
    "\n",
    "# Instantiate DecisionTreeClassifer\n",
    "decisionTree = DecisionTreeClassifier(random_state = 5)\n",
    "\n",
    "# Train\n",
    "decisionTree.fit(X_train, y_train)\n",
    "\n",
    "# Predict\n",
    "y_predict_DTree = decisionTree.predict(X_test)\n",
    "\n",
    "# Accuracy\n",
    "accuracy_DTree = accuracy_score(y_test, y_predict_DTree)\n",
    "\n",
    "print(accuracy_DTree)"
   ]
  },
  {
   "cell_type": "code",
   "execution_count": 152,
   "metadata": {},
   "outputs": [
    {
     "name": "stdout",
     "output_type": "stream",
     "text": [
      "0.7276124113206595\n"
     ]
    }
   ],
   "source": [
    "# Logistic Regression\n",
    "from sklearn.linear_model import LogisticRegression\n",
    "\n",
    "#Instantiate LogisticRegression\n",
    "logReg = LogisticRegression()\n",
    "\n",
    "# Train\n",
    "logReg.fit(X_train, y_train)\n",
    "\n",
    "# Predict\n",
    "y_predict_LogReg = logReg.predict(X_test)\n",
    "\n",
    "# Accuracy\n",
    "accuracy_LogReg = accuracy_score(y_test, y_predict_LogReg)\n",
    "\n",
    "print(accuracy_LogReg)"
   ]
  },
  {
   "cell_type": "code",
   "execution_count": 153,
   "metadata": {},
   "outputs": [
    {
     "name": "stdout",
     "output_type": "stream",
     "text": [
      "0.6743061369364939\n",
      "0.6833455671121074\n",
      "0.7905062990880036\n"
     ]
    }
   ],
   "source": [
    "y_predict_prob_dt = knn.predict_proba(X_test)\n",
    "fpr_dt, tpr_dt, thresholds_dt = roc_curve(y_test, y_predict_prob_dt[:,1], pos_label=1)\n",
    "AUC_dt = auc(fpr_dt, tpr_dt)\n",
    "\n",
    "y_predict_prob_rf = decisionTree.predict_proba(X_test)\n",
    "fpr_rf, tpr_rf, thresholds_rf = roc_curve(y_test, y_predict_prob_rf[:,1], pos_label=1)\n",
    "AUC_rf = auc(fpr_rf, tpr_rf)\n",
    "\n",
    "y_predict_prob_lr = logReg.predict_proba(X_test)\n",
    "fpr_lr, tpr_lr, thresholds_lr = roc_curve(y_test, y_predict_prob_lr[:,1], pos_label=1)\n",
    "AUC_lr = auc(fpr_lr, tpr_lr)\n",
    "\n",
    "print(AUC_dt)\n",
    "print(AUC_rf)\n",
    "print(AUC_lr)\n",
    "\n"
   ]
  },
  {
   "cell_type": "code",
   "execution_count": 155,
   "metadata": {},
   "outputs": [
    {
     "data": {
      "image/png": "[encoded data removed]",
      "text/plain": [
       "<matplotlib.figure.Figure at 0x1ef72a41908>"
      ]
     },
     "metadata": {},
     "output_type": "display_data"
    },
    {
     "data": {
      "image/png": "[encoded data removed]",
      "text/plain": [
       "<matplotlib.figure.Figure at 0x1ef4e45e160>"
      ]
     },
     "metadata": {},
     "output_type": "display_data"
    },
    {
     "data": {
      "image/png": "[encoded data removed]",
      "text/plain": [
       "<matplotlib.figure.Figure at 0x1ef418b5a90>"
      ]
     },
     "metadata": {},
     "output_type": "display_data"
    }
   ],
   "source": [
    "%matplotlib inline\n",
    "\n",
    "plt.figure()\n",
    "\n",
    "# Roc Curve:\n",
    "plt.plot(fpr_dt, tpr_dt, color='red', lw=2, \n",
    "         label='ROC Curve (area = %0.2f)' % AUC_dt)\n",
    "\n",
    "# Random Guess line:\n",
    "plt.plot([0, 1], [0, 1], color='blue', lw=1, linestyle='--')\n",
    "\n",
    "# Defining The Range of X-Axis and Y-Axis:\n",
    "plt.xlim([-0.005, 1.005])\n",
    "plt.ylim([0.0, 1.01])\n",
    "\n",
    "# Labels, Title, Legend:\n",
    "plt.xlabel('False Positive Rate')\n",
    "plt.ylabel('True Positive Rate')\n",
    "plt.title('KNN Pass Outcome Predictor')\n",
    "plt.legend(loc=\"lower right\")\n",
    "\n",
    "plt.show()\n",
    "\n",
    "# Roc Curve:\n",
    "plt.plot(fpr_rf, tpr_rf, color='red', lw=2, \n",
    "         label='ROC Curve (area = %0.2f)' % AUC_rf)\n",
    "\n",
    "# Random Guess line:\n",
    "plt.plot([0, 1], [0, 1], color='blue', lw=1, linestyle='--')\n",
    "\n",
    "# Defining The Range of X-Axis and Y-Axis:\n",
    "plt.xlim([-0.005, 1.005])\n",
    "plt.ylim([0.0, 1.01])\n",
    "\n",
    "# Labels, Title, Legend:\n",
    "plt.xlabel('False Positive Rate')\n",
    "plt.ylabel('True Positive Rate')\n",
    "plt.title('Decision Tree Pass Outcome Predictor')\n",
    "plt.legend(loc=\"lower right\")\n",
    "\n",
    "plt.show()\n",
    "\n",
    "# Roc Curve:\n",
    "plt.plot(fpr_lr, tpr_lr, color='red', lw=2, \n",
    "         label='ROC Curve (area = %0.2f)' % AUC_lr)\n",
    "\n",
    "# Random Guess line:\n",
    "plt.plot([0, 1], [0, 1], color='blue', lw=1, linestyle='--')\n",
    "\n",
    "# Defining The Range of X-Axis and Y-Axis:\n",
    "plt.xlim([-0.005, 1.005])\n",
    "plt.ylim([0.0, 1.01])\n",
    "\n",
    "# Labels, Title, Legend:\n",
    "plt.xlabel('False Positive Rate')\n",
    "plt.ylabel('True Positive Rate')\n",
    "plt.title('Logistic Regression Pass Outcome Predictor')\n",
    "plt.legend(loc=\"lower right\")\n",
    "\n",
    "plt.show()"
   ]
  },
  {
   "cell_type": "code",
   "execution_count": null,
   "metadata": {},
   "outputs": [],
   "source": []
  }
 ],
 "metadata": {
  "kernelspec": {
   "display_name": "Python 3",
   "language": "python",
   "name": "python3"
  },
  "language_info": {
   "codemirror_mode": {
    "name": "ipython",
    "version": 3
   },
   "file_extension": ".py",
   "mimetype": "text/x-python",
   "name": "python",
   "nbconvert_exporter": "python",
   "pygments_lexer": "ipython3",
   "version": "3.6.4"
  }
 },
 "nbformat": 4,
 "nbformat_minor": 2
}
